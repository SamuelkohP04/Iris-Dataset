{
 "cells": [
  {
   "cell_type": "markdown",
   "id": "7a0caf73",
   "metadata": {},
   "source": [
    "## Iris Dataset - Classifying Flowers\n",
    "\n",
    "### A study of univariate and bivariate analysis between features of flowers\n",
    "You may think that this project primarily focusses on classifying flower data based on its features. However, in this project, it is less focussed on that. We are going to do exploration and data analysis, within features themselves. Particularly, bivariate analysis. \n",
    "\n",
    "In this bivariate analysis, we are using what we have learnt in secondary school, $y = mx + c$, to estimate y values from x values. Here, the y values refer to the dependent variable, or any variable we want. And x values are independent variable. We choose y = petal length, and x = petal width.\n",
    "\n",
    "This project covers the following concepts:\n",
    "- Linear regression with a step-by-step implementation\n",
    "- Polynomial regression\n",
    "- Logistic regression and its implementation\n",
    "- Softmax regression"
   ]
  },
  {
   "cell_type": "markdown",
   "id": "5da6e197",
   "metadata": {},
   "source": [
    "### Importing requirements"
   ]
  },
  {
   "cell_type": "code",
   "execution_count": null,
   "id": "fecba7ea",
   "metadata": {},
   "outputs": [],
   "source": [
    "import numpy as np\n",
    "from sklearn import datasets\n",
    "import seaborn as sns\n",
    "%matplotlib inline\n",
    "import matplotlib.pyplot as plt"
   ]
  },
  {
   "cell_type": "code",
   "execution_count": null,
   "id": "70e8e938",
   "metadata": {},
   "outputs": [],
   "source": [
    "sns.set(style='whitegrid', context='notebook')"
   ]
  },
  {
   "cell_type": "markdown",
   "id": "79324d40",
   "metadata": {},
   "source": [
    "### Loading the Iris Dataset"
   ]
  },
  {
   "cell_type": "code",
   "execution_count": null,
   "id": "d8e080a5",
   "metadata": {},
   "outputs": [],
   "source": [
    "iris2 = sns.load_dataset('iris')"
   ]
  },
  {
   "cell_type": "code",
   "execution_count": null,
   "id": "40417642",
   "metadata": {
    "scrolled": false
   },
   "outputs": [],
   "source": [
    "iris2.head()"
   ]
  },
  {
   "cell_type": "markdown",
   "id": "1a3ef2ae",
   "metadata": {},
   "source": [
    "It is time to start with the simplest, but still useful abstraction for our data - a linear regression function. In linear regression, we try to find a linear equation that minimises the distance between the data points and the modeled line. The model function takes the following form:\n",
    "\n",
    "$$y_{i} = \\beta x_{i} + \\alpha + \\epsilon_{i}$$\n",
    "\n",
    "where:\n",
    "- $\\alpha$ is the intercept,\n",
    "- $\\beta$ is the slope of the modeled line\n",
    "- $x$ is the independent variable\n",
    "- $y$ is the dependent variable\n",
    "- $\\epsilon_{i}$ variable is an interesting one. It is the error distance from the sample $i$, to the regressed line."
   ]
  },
  {
   "attachments": {
    "image.png": {
     "image/png": "[encoded data removed]"
    }
   },
   "cell_type": "markdown",
   "id": "c272ca3b",
   "metadata": {},
   "source": [
    "![image.png](attachment:image.png)"
   ]
  },
  {
   "cell_type": "markdown",
   "id": "3c7c4a5e",
   "metadata": {},
   "source": [
    "The set of all those distances, calculated in the cost function, will give us the values of the unknown parameters that will minimise the cost. "
   ]
  },
  {
   "cell_type": "markdown",
   "id": "325952d7",
   "metadata": {},
   "source": [
    "### Determination of the cost function\n",
    "We are using method of least squares.\n",
    "\n",
    "$$ J(\\beta_{0}, \\beta_{1}) = \\sum \\limits_{i = 0}^{n} (y_{i} - \\beta_{0} - \\beta_{1} x_{i}) ^{2}$$\n",
    "\n",
    "Least squares function for a linear equation, using the standard variables $\\beta_{0}$ and $\\beta_{1}$, which are used in the next sections.\n",
    "\n",
    "Returns the total differences between all the values ($y_{i}$) and the corresponding point in our regressing line $(\\beta_{0} + \\beta_{1}x_{i})$"
   ]
  },
  {
   "cell_type": "markdown",
   "id": "0b77d80a",
   "metadata": {},
   "source": [
    "## Multiple ways of minimising errors\n",
    "\n",
    "The least squares error function has several ways of getting a solution:\n",
    "\n",
    "- The analytical way\n",
    "- Using the covariance and correlation values\n",
    "- Using gradient descent\n",
    "\n",
    "### Analytical approach\n",
    "\n",
    "Using linear algebra techniques, we first represent the error in a function in a matrix form:\n",
    "\n",
    "$$ J(\\theta) = \\frac{1}{2m} (X \\theta  - y)^{T} (X\\theta - y)$$\n",
    "\n",
    "$J$ is the cost function and has an analytical solution of:\n",
    "\n",
    "$$ \\theta = (X^{T} X^{-1}) X^{T} y$$"
   ]
  },
  {
   "cell_type": "markdown",
   "id": "325ec691",
   "metadata": {},
   "source": [
    "### Pros and cons of analytical approach\n",
    "\n",
    "Approach using linear algebra to calculate the minimum error solution is easier. But there are some possible problems with this approach:\n",
    "\n",
    "- First, matrix multiplication and inversion are computationally expensive. Time complexity is $O(n^{2})$ to $O(n^{3})$.\n",
    "- Additionally, and depending on the implementation, this direct approach could have limited accuracy. "
   ]
  },
  {
   "cell_type": "markdown",
   "id": "ea1f9098",
   "metadata": {},
   "source": [
    "## Covariance/correlation method\n",
    "\n",
    "Now, it is time to introduce a new way of estimating the coefficient of our regressing line. In the process, we learn other statistical measures, like covariance and correlation. This will also help us when analysing a dataset for the first time and drawing our first conclusions.\n"
   ]
  },
  {
   "cell_type": "markdown",
   "id": "c8ce790d",
   "metadata": {},
   "source": [
    "\n",
    "\n",
    "### Covariance\n",
    "\n",
    "Covariance is a statistical term, and can be defined as:\n",
    "- A measure of the systematic relationship betwewen a pair of random variables, wherein, a change in one variable is reciprocated by an equivalent change in another variable.\n",
    "\n",
    "Covariance can takae any value between $-\\infty$ to $\\infty$, wherein, a negative value is an indicator of a negative relationship. Whereas, a positive value represents a positive relationship. It also ascertains a linear relationship between the two variables.\n",
    "\n",
    "Therefore, when the value is 0, it indicates no direct linear relationship, and the values tend to form a blob-like distribution.\n",
    "\n",
    "$$cov(x_{i}, y) = \\frac{1}{n-1} \\sum (x - \\bar{x}) (y - \\bar{y})$$\n",
    "\n",
    "where: \n",
    "- $cov$ is the covariance,\n",
    "- $n-1$ is the degrees of freedom."
   ]
  },
  {
   "cell_type": "markdown",
   "id": "9f4c6006",
   "metadata": {},
   "source": [
    "### Standardisation (scaling method for x values)\n",
    "\n",
    "Center the variable by subtracting the mean and scaling it with the standard deviation of the dataset.\n",
    "\n",
    "$$z = \\frac{x_{i} - \\mu}{\\sigma}$$"
   ]
  },
  {
   "cell_type": "code",
   "execution_count": null,
   "id": "cea381bb",
   "metadata": {},
   "outputs": [],
   "source": [
    "def covariance(X, Y):\n",
    "    xbar = np.mean(X)\n",
    "    ybar = np.mean(Y)\n",
    "    epsilion = 0\n",
    "    for x, y in zip(X, Y):\n",
    "        epsilion = epsilion + (x-xbar) * (y-ybar)\n",
    "    return epsilion / (len(X) - 1)"
   ]
  },
  {
   "cell_type": "code",
   "execution_count": null,
   "id": "624fe9a2",
   "metadata": {
    "scrolled": false
   },
   "outputs": [],
   "source": [
    "print(\"Result of pre-defined covariance function, cov =\", covariance([1,3,4], [1,0,2]))\n",
    "print(\"Result of numpy covariance function, cov matrix =\", np.cov([1,3,4], [1,0,2]))"
   ]
  },
  {
   "cell_type": "markdown",
   "id": "cf40030e",
   "metadata": {},
   "source": [
    "The result should be equal to (1,0) and (0,1) of the matrix. In this case, 0.5."
   ]
  },
  {
   "cell_type": "markdown",
   "id": "5af68ade",
   "metadata": {},
   "source": [
    "### Correlation\n",
    "This will be the starting point of our analysis, and we will be extending it towards each axis, with the correlation value.\n",
    "\n",
    "The correlation value determines the degree to which two or more random variables move in tandem. During the study of two variables, if it has been observed that the movement of one variable is concordant, with an equivalent movement in another variable, then, the variables are said to be correlated. \n",
    "\n",
    "The formula is:\n",
    "\n",
    "$$r = \\frac{1}{n-1} * \\frac{\\sum(x_{i} - \\bar{x}_{i}) (y - \\bar{y})} {\\sigma_{x_{i}} \\sigma_{y}}$$\n",
    "\n",
    "When $r$ is a positive value, the more $r$ approaches 1, the more it is directly correlated. Meaning, two variables move in the same direction.\n",
    "When $r$ is a negative value, the more $r$ approaches -1, the more the two variables are in opposite directions. Hence the domain of $r$ is $-1 \\leq r \\leq +1$.\n",
    "\n",
    "Let's break down why the denominator, $\\sigma_{x_{i}} \\sigma_{y_{i}}$, can be considered a measure of variance:\n",
    "\n",
    "- Standard deviation measures the spread of data.\n",
    "- Variance, $\\sigma^{2}$, is the square of standard deviation, and quantifies the average of the squared differences from the mean. \n",
    "- Product of variances quantifies the \"joint variability\" of the two variables It tells us how much X and Y vary together."
   ]
  },
  {
   "cell_type": "code",
   "execution_count": null,
   "id": "3b1a44ff",
   "metadata": {},
   "outputs": [],
   "source": [
    "def correlation(X, Y):\n",
    "    return (covariance(X, Y) / (np.std(X, ddof=1) * np.std(Y, ddof=1)))"
   ]
  },
  {
   "cell_type": "markdown",
   "id": "5f322020",
   "metadata": {},
   "source": [
    "### Searching for the slope and intercept with covariance and correlation\n",
    "To approximate a linear equation it is:\n",
    "\n",
    "$$ \\hat{y} = \\hat{\\beta} x + \\hat{\\alpha}$$\n",
    "\n",
    "As we know that this line passes through the average of all the points, we can estimate the intercept, with the only unknown being the estimated slope. It is nothing fancier than just flipping the equation around to get intercept.\n",
    "\n",
    "$$ \\hat{\\alpha} = \\bar{y} - \\hat{\\beta} \\bar{x}$$\n",
    "\n",
    "As slope represents the change of the dependent variable divided by the change in the independent variable. But in this case we are dealing with the variation of the data, rather than absolute differences between coordinates.\n",
    "\n",
    "Slope: a proportion of the variance in the independent variable that covaries with the dependent variable:\n",
    "\n",
    "$$ \\hat{\\beta} = \\frac{Cov(x, y)} {Var(x)} $$\n",
    "\n",
    "As it happens, if our data actually looks like a circular cloud when we plot it, our slope will become zero. This suggests no relationship between both variables.\n",
    "\n",
    "$$ \\hat{\\beta} = \\frac{\\sum\\limits^{n}_{i=1} (x_{i} - \\bar{x}) (y_{i} - \\bar{y})} {\\sum\\limits^{n}_{i=1} (x-\\bar{x})^{2}}$$\n",
    "\n",
    "$$ = r_{xy} \\frac{S_{y}}{S_{x}}$$\n",
    "\n"
   ]
  },
  {
   "cell_type": "code",
   "execution_count": null,
   "id": "e8e036dc",
   "metadata": {
    "scrolled": true
   },
   "outputs": [],
   "source": [
    "print(\"Result of pre-defined corr function, r =\", correlation([1,1,4,3], [1,0,2,2]))\n",
    "print(\"Result of numpy corr function =\", np.corrcoef([1,1,4,3], [1,0,2,2]))"
   ]
  },
  {
   "cell_type": "code",
   "execution_count": null,
   "id": "995ec946",
   "metadata": {},
   "outputs": [],
   "source": [
    "pairplot = sns.pairplot(iris2, size=2.0)\n",
    "pairplot.fig.suptitle('Summary of Variable Pairs, and Univariate Distributions',\n",
    "                      y=1.02)"
   ]
  },
  {
   "cell_type": "markdown",
   "id": "4ccbf1f6",
   "metadata": {},
   "source": [
    "Let's select two variables that, from our initial analysis, have the property of being linearly dependent. They are \"petal width\" and \"petal length\"."
   ]
  },
  {
   "cell_type": "code",
   "execution_count": null,
   "id": "20b7b1c9",
   "metadata": {},
   "outputs": [],
   "source": [
    "X = iris2['petal_width']\n",
    "Y = iris2['petal_length']"
   ]
  },
  {
   "cell_type": "code",
   "execution_count": null,
   "id": "734a0d5a",
   "metadata": {},
   "outputs": [],
   "source": [
    "plt.scatter(X, Y)\n",
    "plt.xlabel('petal width')\n",
    "plt.ylabel('petal length')\n",
    "plt.title('Distribution of petal length against petal width')"
   ]
  },
  {
   "cell_type": "markdown",
   "id": "a945eac6",
   "metadata": {},
   "source": [
    "### Creating the prediction function\n",
    "\n",
    "First, let's define the function that will represent the modeled data. This is in the form of linear function, in the form y = beta * x + alpha."
   ]
  },
  {
   "cell_type": "code",
   "execution_count": null,
   "id": "aa976c0f",
   "metadata": {},
   "outputs": [],
   "source": [
    "def predict(alpha, beta, x_i):\n",
    "    return beta * x_i + alpha"
   ]
  },
  {
   "cell_type": "markdown",
   "id": "57a17609",
   "metadata": {},
   "source": [
    "### Defining the error function\n",
    "\n",
    "This shows us the difference between predictions and the expected output during training. As we will explain in depth in the next chapter, we have two main alternatives:\n",
    "\n",
    "- measuring the absolute difference between values (or L1)\n",
    "- or measuring a variant of the square of the difference (or L2).\n",
    "\n",
    "Let's define both versions, including the first formulation inside the second."
   ]
  },
  {
   "cell_type": "code",
   "execution_count": null,
   "id": "a10cd0fc",
   "metadata": {},
   "outputs": [],
   "source": [
    "def error(alpha, beta, x_i, y_i): #L1\n",
    "    return y_i - predict(alpha, beta, x_i)"
   ]
  },
  {
   "cell_type": "code",
   "execution_count": null,
   "id": "a8ad34bd",
   "metadata": {},
   "outputs": [],
   "source": [
    "def sum_sq_e(alpha, beta, x, y):\n",
    "    total_error = sum((error(alpha, beta, x_i, y_i) ** 2) \n",
    "                      for x_i, y_i in zip(x, y))\n",
    "    \n",
    "    return total_error"
   ]
  },
  {
   "cell_type": "markdown",
   "id": "ac5a2260",
   "metadata": {},
   "source": [
    "### Correlation fit\n",
    "\n",
    "Now, we will define a function implementing the correlation method, to find the parameters for our regression:"
   ]
  },
  {
   "cell_type": "code",
   "execution_count": null,
   "id": "fccf6a68",
   "metadata": {},
   "outputs": [],
   "source": [
    "def correlation_fit(x, y):\n",
    "    beta = correlation(x, y) * np.std(y, ddof=1) / np.std(x, ddof=1)\n",
    "    alpha = np.mean(y) - beta * np.mean(x)\n",
    "    \n",
    "    return alpha, beta"
   ]
  },
  {
   "cell_type": "code",
   "execution_count": null,
   "id": "cfccab0b",
   "metadata": {},
   "outputs": [],
   "source": [
    "alpha, beta = correlation_fit(X, Y)\n",
    "print(\"Alpha =\", alpha)\n",
    "print(\"Beta =\", beta)"
   ]
  },
  {
   "cell_type": "markdown",
   "id": "e4b14bcb",
   "metadata": {},
   "source": [
    "Let's now graph the regressed line, with the data, in order to intuitively show the appropriateness of the solution:"
   ]
  },
  {
   "cell_type": "code",
   "execution_count": null,
   "id": "5ffde503",
   "metadata": {},
   "outputs": [],
   "source": [
    "plt.scatter(X, Y)\n",
    "xr = np.arange(0, 3.5)\n",
    "plt.plot(xr, (xr * beta) + alpha)\n",
    "\n",
    "plt.xlabel('petal width')\n",
    "plt.ylabel('petal length')\n",
    "plt.title('Best fit line of petal length against petal width')"
   ]
  },
  {
   "cell_type": "code",
   "execution_count": null,
   "id": "3867aef5",
   "metadata": {},
   "outputs": [],
   "source": [
    "from sklearn.linear_model import Ridge\n",
    "from sklearn.preprocessing import PolynomialFeatures\n",
    "from sklearn.pipeline import make_pipeline"
   ]
  },
  {
   "cell_type": "code",
   "execution_count": null,
   "id": "c3266038",
   "metadata": {},
   "outputs": [],
   "source": [
    "ix = iris2['petal_width']\n",
    "iy = iris2['petal_length']\n",
    "\n",
    "x_plot = np.linspace(0, 2.6, 100)\n",
    "\n",
    "X = ix.values[:, np.newaxis]\n",
    "\n",
    "X_plot = x_plot[:, np.newaxis]"
   ]
  },
  {
   "cell_type": "code",
   "execution_count": null,
   "id": "480d424e",
   "metadata": {
    "scrolled": false
   },
   "outputs": [],
   "source": [
    "plt.scatter(ix, iy, s=30, marker='o', label='training points')\n",
    "for count, degree in enumerate([3, 6, 20]):\n",
    "    model = make_pipeline(PolynomialFeatures(degree), Ridge())\n",
    "    model.fit(X, iy)\n",
    "    y_plot = model.predict(X_plot)\n",
    "    plt.plot(x_plot, y_plot, label='degree %d' % degree)\n",
    "    \n",
    "plt.legend(loc='upper left')\n",
    "plt.title('Polynomial Coefficients to Describe Data Population')\n",
    "plt.show()"
   ]
  },
  {
   "cell_type": "markdown",
   "id": "b5f05eb1",
   "metadata": {},
   "source": [
    "### Using gradient descent\n",
    "\n",
    "- Linear function variables, $\\beta_{0}$ and $\\beta_{1}$\n",
    "- The number of samples in the sampleset, $m$\n",
    "- The different elements in the sampleset, $x^{(i)}$ and $y^{(i)}$\\\n",
    "\n",
    "Let's start with the error function, $J$. It was defined in previous sections (least squares function). We add $\\frac{1}{2m} at the start of the equation.\n",
    "\n",
    "$$J(\\beta_{0}, \\beta_{1}) = \\frac{1}{2m} \\sum \\limits^{m}_{i=1} ((\\beta_{0} + \\beta_{1} x^{(i)}) - y^{(i)}) ^{2}$$\n",
    "\n",
    "We introduce a new operator, the gradient. \n",
    "Assuming we know how partial derivatives work, it is enough to say that the gradient is a vector containing the mentioned derivatives. \n",
    "\n",
    "$$\\triangledown J(\\beta_{0}, \\beta_{1}) = \\begin{bmatrix} (\\frac{\\delta J}{\\delta \\beta_{0}}) \\\\ (\\frac{\\delta J}{\\delta \\beta_{1}}) \\end{bmatrix} $$"
   ]
  },
  {
   "cell_type": "code",
   "execution_count": null,
   "id": "580f39df",
   "metadata": {},
   "outputs": [],
   "source": []
  },
  {
   "cell_type": "code",
   "execution_count": null,
   "id": "9687ab25",
   "metadata": {},
   "outputs": [],
   "source": [
    "def least_squares(b0, b1, points):\n",
    "    totalError = 0\n",
    "    N = float(len(points))\n",
    "    for x, y in points:\n",
    "        totalError += (y - (b1 * x + b0)) ** 2\n",
    "        \n",
    "    return totalError / 2.*N"
   ]
  },
  {
   "cell_type": "code",
   "execution_count": null,
   "id": "ce864af9",
   "metadata": {},
   "outputs": [],
   "source": [
    "def step_gradient(b0_current, b1_current, points, learningRate):\n",
    "    b0_gradient = 0\n",
    "    b1_gradient = 0\n",
    "    N = float(len(points))\n",
    "    for x, y in points:\n",
    "        b0_gradient += (1/N) * (y - ((b1_current * x) + b0_current))\n",
    "        b1_gradient += (1/N) * x * (y - ((b1_current * x) + b0_current))\n",
    "    \n",
    "    new_b0 = b0_current + (learningRate * b0_gradient)\n",
    "    new_b1 = b1_current + (learningRate * b1_gradient)\n",
    "    \n",
    "    return [new_b0, new_b1, least_squares(new_b0, new_b1, points)]"
   ]
  },
  {
   "cell_type": "code",
   "execution_count": null,
   "id": "47b3773a",
   "metadata": {},
   "outputs": [],
   "source": [
    "def run_gradient_descent(points, starting_b0, starting_b1, learning_rate, num_iterations):\n",
    "    b0 = starting_b0\n",
    "    b1 = starting_b1\n",
    "    slope = []\n",
    "    intersect = []\n",
    "    error = []\n",
    "    \n",
    "    for i in range(num_iterations):\n",
    "        b0, b1, e = step_gradient(b0, b1, np.array(points), learning_rate)\n",
    "        slope.append(b1)\n",
    "        intersect.append(b0)\n",
    "        error.append(e)\n",
    "        \n",
    "    return [b0, b1, e, slope, intersect, error]"
   ]
  },
  {
   "cell_type": "code",
   "execution_count": null,
   "id": "2200830a",
   "metadata": {},
   "outputs": [],
   "source": [
    "X = iris2['petal_width'].tolist()\n",
    "Y = iris2['petal_length'].tolist()\n",
    "\n",
    "points = np.dstack((X, Y))[0]"
   ]
  },
  {
   "cell_type": "code",
   "execution_count": null,
   "id": "4ca94502",
   "metadata": {},
   "outputs": [],
   "source": [
    "learning_rate = 0.0001\n",
    "initial_b0 = 0\n",
    "initial_b1 = 0\n",
    "num_iterations = 1000\n",
    "[b0, b1, e, slope, intersect, error] = run_gradient_descent(points, initial_b0, initial_b1, learning_rate, num_iterations)"
   ]
  },
  {
   "cell_type": "code",
   "execution_count": null,
   "id": "b33b39f9",
   "metadata": {},
   "outputs": [],
   "source": [
    "plt.figure(figsize=(7,5))\n",
    "plt.scatter(X,Y)\n",
    "xr = np.arange(0, 3.5)\n",
    "plt.plot(xr, (xr*b1) + b0)\n",
    "plt.title('Regression, alpha=0.0001, initial values=(0,0), it=1000')\n",
    "\n",
    "plt.ylabel('Petal length')\n",
    "plt.xlabel('Petal width')"
   ]
  },
  {
   "cell_type": "markdown",
   "id": "1e1bfd00",
   "metadata": {},
   "source": [
    "Well, that is poor performance. Let's see what happened with the error during training:"
   ]
  },
  {
   "cell_type": "code",
   "execution_count": null,
   "id": "88f12ddd",
   "metadata": {},
   "outputs": [],
   "source": [
    "plt.figure(figsize=(7,5))\n",
    "xr = np.arange(0, 1000)\n",
    "\n",
    "plt.plot(xr, np.array(error).transpose())\n",
    "plt.title('Error for 1000 iterations')\n",
    "plt.ylabel('Total least squares')\n",
    "plt.xlabel('Number of iterations')"
   ]
  },
  {
   "cell_type": "code",
   "execution_count": null,
   "id": "29d0ac11",
   "metadata": {},
   "outputs": [],
   "source": [
    "learning_rate = 0.001 #Last one was 0.0001\n",
    "initial_b0 = 0\n",
    "initial_b1 = 0\n",
    "num_iterations = 1000\n",
    "\n",
    "[b0, b1, e, slope, intersect, error] = run_gradient_descent(points, \n",
    "                                                            initial_b0,\n",
    "                                                            initial_b1,\n",
    "                                                            learning_rate,\n",
    "                                                            num_iterations\n",
    "                                                           )\n",
    "\n",
    "plt.figure(figsize=(7,5))\n",
    "xr = np.arange(0, 1000)\n",
    "plt.plot(xr, np.array(error).transpose())\n",
    "plt.title('Error for 1000 iterations, increased step by tenfold')"
   ]
  },
  {
   "cell_type": "code",
   "execution_count": null,
   "id": "c0222319",
   "metadata": {},
   "outputs": [],
   "source": [
    "plt.figure(figsize=(7,5))\n",
    "plt.scatter(X, Y)\n",
    "xr = np.arange(0, 3.5)\n",
    "\n",
    "plt.plot(xr, (xr * b1) + b0)\n",
    "plt.title('Regression, alpha=0.01, initial values=(0,0), it=1000')\n",
    "plt.ylabel('Petal length')\n",
    "plt.xlabel('Petal width')"
   ]
  },
  {
   "cell_type": "code",
   "execution_count": null,
   "id": "3609cefa",
   "metadata": {},
   "outputs": [],
   "source": [
    "learning_rate = 0.85 # Last one was 0.0001\n",
    "initial_b0 = 0\n",
    "initial_b1 = 0\n",
    "num_iterations = 1000\n",
    "\n",
    "[b0, b1, e, slope, intersect, error] = run_gradient_descent(points, \n",
    "                                                            initial_b0, \n",
    "                                                            initial_b1, \n",
    "                                                            learning_rate,\n",
    "                                                            num_iterations)\n",
    "\n",
    "plt.figure(figsize=(7,5))\n",
    "xr = np.arange(0, 1000)\n",
    "plt.plot(xr, np.array(error).transpose())\n",
    "plt.title('Error for 1000 iterations, big step')"
   ]
  },
  {
   "cell_type": "markdown",
   "id": "4b749e25",
   "metadata": {},
   "source": [
    "This is a bad move. As you can see, the error went to infinity. What happened here?\n",
    "\n",
    "The steps we are taking are so radical that instead of slicing the imaginary bowl we described, we are just jumping around the surface. As the iterations advance, we began to escalate the accumulated errors without control. \n",
    "\n",
    "Another measure that could be taken, is to improve our seed values. The seed value starts from 0. Thisis a very bad idea in general for this technique, especially when you are working with data that is not normalised. There are more reasons to this. So, let's try to initialise the parameter on a pseudo-random location in order to allow the graphics to be the same across the code examples, and see what happens:"
   ]
  },
  {
   "cell_type": "code",
   "execution_count": null,
   "id": "c6a0f13a",
   "metadata": {},
   "outputs": [],
   "source": [
    "learning_rate = 0.001 # Last one was 0.0001\n",
    "initial_b0 = 0.8 # Random\n",
    "initial_b1 = 1.5 # Random\n",
    "num_iterations = 1000\n",
    "\n",
    "[b0, b1, e, slope, intersect, error] = run_gradient_descent(points, \n",
    "                                                            initial_b0, \n",
    "                                                            initial_b1, \n",
    "                                                            learning_rate,\n",
    "                                                            num_iterations)\n",
    "\n",
    "plt.figure(figsize=(7,5))\n",
    "xr = np.arange(0, 1000)\n",
    "plt.plot(xr, np.array(error).transpose())\n",
    "plt.title('Error for 1000 iterations, step 0.001, random initial parameter values')"
   ]
  },
  {
   "cell_type": "code",
   "execution_count": null,
   "id": "5e0ae380",
   "metadata": {},
   "outputs": [],
   "source": [
    "learning_rate = 0.001 # Last one was 0.0001\n",
    "initial_b0 = 0.8 # Random\n",
    "initial_b1 = 1.5 # Random\n",
    "num_iterations = 1000\n",
    "\n",
    "x_mean = np.mean(points[:, 0])\n",
    "y_mean = np.mean(points[:, 1])\n",
    "x_std = np.std(points[:, 0])\n",
    "y_std = np.std(points[:, 1])\n",
    "\n",
    "X_normalised = (points[:,0] - x_mean / x_std)\n",
    "Y_normalised = (points[:,1] - y_mean / y_std)\n",
    "\n",
    "plt.figure(figsize=(7,5))\n",
    "plt.scatter(X_normalised, Y_normalised)"
   ]
  },
  {
   "cell_type": "code",
   "execution_count": null,
   "id": "3f679277",
   "metadata": {},
   "outputs": [],
   "source": [
    "points = np.dstack((X_normalised, Y_normalised))[0]\n",
    "learning_rate = 0.001\n",
    "initial_b0 = 0.8\n",
    "initial_b1 = 1.5\n",
    "num_iterations = 1000\n",
    "\n",
    "[b0, b1, e, slope, intersect, error] = run_gradient_descent(points, \n",
    "                                                            initial_b0, \n",
    "                                                            initial_b1, \n",
    "                                                            learning_rate,\n",
    "                                                            num_iterations)\n",
    "\n",
    "plt.figure(figsize=(7,5))\n",
    "xr = np.arange(0, 1000)\n",
    "plt.plot(xr, np.array(error).transpose())\n",
    "plt.title('Error for 1000 iterations, step 0.001, random initial parameter values, normalised initial values')"
   ]
  },
  {
   "cell_type": "code",
   "execution_count": null,
   "id": "fb6ef241",
   "metadata": {},
   "outputs": [],
   "source": []
  }
 ],
 "metadata": {
  "kernelspec": {
   "display_name": "Python 3 (ipykernel)",
   "language": "python",
   "name": "python3"
  },
  "language_info": {
   "codemirror_mode": {
    "name": "ipython",
    "version": 3
   },
   "file_extension": ".py",
   "mimetype": "text/x-python",
   "name": "python",
   "nbconvert_exporter": "python",
   "pygments_lexer": "ipython3",
   "version": "3.9.12"
  }
 },
 "nbformat": 4,
 "nbformat_minor": 5
}
